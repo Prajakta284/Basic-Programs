{
 "cells": [
  {
   "cell_type": "code",
   "execution_count": 1,
   "metadata": {},
   "outputs": [
    {
     "name": "stdout",
     "output_type": "stream",
     "text": [
      "enter the number: 27\n",
      "27  is not a prime number\n"
     ]
    }
   ],
   "source": [
    "num = int(input(\"enter the number: \"))\n",
    "\n",
    "if num > 1:\n",
    "    \n",
    "    for i in range(2, num//2):\n",
    "        \n",
    "        if (num % i) == 0:\n",
    "            print(num , \" is not a prime number\")\n",
    "            \n",
    "            break\n",
    "        \n",
    "    else:\n",
    "            \n",
    "            print(num , \"is prime number\")\n",
    "            \n",
    "else:\n",
    "        \n",
    "        print(num, \"is note a prime number\")\n",
    "            \n",
    "            "
   ]
  },
  {
   "cell_type": "code",
   "execution_count": null,
   "metadata": {},
   "outputs": [],
   "source": []
  },
  {
   "cell_type": "code",
   "execution_count": null,
   "metadata": {},
   "outputs": [],
   "source": []
  }
 ],
 "metadata": {
  "kernelspec": {
   "display_name": "Python 3",
   "language": "python",
   "name": "python3"
  },
  "language_info": {
   "codemirror_mode": {
    "name": "ipython",
    "version": 3
   },
   "file_extension": ".py",
   "mimetype": "text/x-python",
   "name": "python",
   "nbconvert_exporter": "python",
   "pygments_lexer": "ipython3",
   "version": "3.7.1"
  }
 },
 "nbformat": 4,
 "nbformat_minor": 2
}
