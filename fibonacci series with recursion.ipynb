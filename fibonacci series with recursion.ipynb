
{
 "cells": [
  {
   "cell_type": "code",
   "execution_count": 1,
   "metadata": {},
   "outputs": [],
   "source": [
    "def rec_fibo(n):\n",
    "    \n",
    "    if n <= 1:\n",
    "        \n",
    "        return n\n",
    "    \n",
    "    else :\n",
    "        \n",
    "        return rec_fibo(n-1) + rec_fibo(n-2)"
   ]
  },
  {
   "cell_type": "code",
   "execution_count": 2,
   "metadata": {},
   "outputs": [
    {
     "name": "stdout",
     "output_type": "stream",
     "text": [
      "how many terms?12\n",
      "fibonacci series\n",
      "0\n",
      "1\n",
      "1\n",
      "2\n",
      "3\n",
      "5\n",
      "8\n",
      "13\n",
      "21\n",
      "34\n",
      "55\n",
      "89\n"
     ]
    }
   ],
   "source": [
    "nterms = int(input(\"how many terms?\"))\n",
    "\n",
    "if nterms <= 0:\n",
    "    \n",
    "    print(\"enter positive integer\")\n",
    "    \n",
    "else:\n",
    "    \n",
    "    print(\"fibonacci series\")\n",
    "    \n",
    "    for i in range(nterms):\n",
    "        \n",
    "        print(rec_fibo(i))"
   ]
  },
  {
   "cell_type": "code",
   "execution_count": null,
   "metadata": {},
   "outputs": [],
   "source": []
  }
 ],
 "metadata": {
  "kernelspec": {
   "display_name": "Python 3",
   "language": "python",
   "name": "python3"
  },
  "language_info": {
   "codemirror_mode": {
    "name": "ipython",
    "version": 3
   },
   "file_extension": ".py",
   "mimetype": "text/x-python",
   "name": "python",
   "nbconvert_exporter": "python",
   "pygments_lexer": "ipython3",
   "version": "3.7.1"
  }
 },
 "nbformat": 4,
 "nbformat_minor": 2
}
